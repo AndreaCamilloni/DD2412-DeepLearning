{
 "cells": [
  {
   "cell_type": "code",
   "execution_count": 7,
   "metadata": {},
   "outputs": [
    {
     "name": "stdout",
     "output_type": "stream",
     "text": [
      "Collecting torchmetricsNote: you may need to restart the kernel to use updated packages.\n",
      "\n",
      "  Downloading torchmetrics-0.10.3-py3-none-any.whl (529 kB)\n",
      "     -------------------------------------- 529.7/529.7 kB 4.8 MB/s eta 0:00:00\n",
      "Requirement already satisfied: torch>=1.3.1 in c:\\users\\andre\\appdata\\local\\programs\\python\\python38\\lib\\site-packages (from torchmetrics) (1.13.0)\n",
      "Requirement already satisfied: typing-extensions in c:\\users\\andre\\appdata\\local\\programs\\python\\python38\\lib\\site-packages (from torchmetrics) (4.4.0)\n",
      "Requirement already satisfied: packaging in c:\\users\\andre\\appdata\\local\\programs\\python\\python38\\lib\\site-packages (from torchmetrics) (21.3)\n",
      "Requirement already satisfied: numpy>=1.17.2 in c:\\users\\andre\\appdata\\local\\programs\\python\\python38\\lib\\site-packages (from torchmetrics) (1.22.3)\n",
      "Requirement already satisfied: pyparsing!=3.0.5,>=2.0.2 in c:\\users\\andre\\appdata\\local\\programs\\python\\python38\\lib\\site-packages (from packaging->torchmetrics) (3.0.7)\n",
      "Installing collected packages: torchmetrics\n",
      "Successfully installed torchmetrics-0.10.3\n"
     ]
    }
   ],
   "source": [
    "%pip install torchmetrics"
   ]
  },
  {
   "cell_type": "code",
   "execution_count": 12,
   "metadata": {},
   "outputs": [],
   "source": [
    "import torch as th\n",
    "from torchmetrics import Accuracy"
   ]
  },
  {
   "cell_type": "code",
   "execution_count": 34,
   "metadata": {},
   "outputs": [
    {
     "data": {
      "text/plain": [
       "tensor([0, 1, 2, 3])"
      ]
     },
     "execution_count": 34,
     "metadata": {},
     "output_type": "execute_result"
    }
   ],
   "source": [
    "# tensor of integers\n",
    "y_true = th.tensor([0, 1, 2, 3])\n",
    "y_true"
   ]
  },
  {
   "cell_type": "code",
   "execution_count": 38,
   "metadata": {},
   "outputs": [],
   "source": [
    "targets = th.tensor([0,1,2])\n",
    "probs = [th.Tensor([[0.1,0.2,0.7],[0.1,0.2,0.7],[0.1,0.2,0.7]]),th.Tensor([[0.1,0.2,0.7],[0.1,0.2,0.7],[0.1,0.2,0.7]]),th.Tensor([[0.1,0.2,0.7],[0.1,0.2,0.7],[0.1,0.2,0.7]])]"
   ]
  },
  {
   "cell_type": "code",
   "execution_count": 39,
   "metadata": {},
   "outputs": [
    {
     "data": {
      "text/plain": [
       "[tensor([[0.1000, 0.2000, 0.7000],\n",
       "         [0.1000, 0.2000, 0.7000],\n",
       "         [0.1000, 0.2000, 0.7000]]),\n",
       " tensor([[0.1000, 0.2000, 0.7000],\n",
       "         [0.1000, 0.2000, 0.7000],\n",
       "         [0.1000, 0.2000, 0.7000]]),\n",
       " tensor([[0.1000, 0.2000, 0.7000],\n",
       "         [0.1000, 0.2000, 0.7000],\n",
       "         [0.1000, 0.2000, 0.7000]])]"
      ]
     },
     "execution_count": 39,
     "metadata": {},
     "output_type": "execute_result"
    }
   ],
   "source": [
    "probs"
   ]
  },
  {
   "cell_type": "code",
   "execution_count": 40,
   "metadata": {},
   "outputs": [
    {
     "data": {
      "text/plain": [
       "tensor([0, 1, 2])"
      ]
     },
     "execution_count": 40,
     "metadata": {},
     "output_type": "execute_result"
    }
   ],
   "source": [
    "targets"
   ]
  },
  {
   "cell_type": "code",
   "execution_count": null,
   "metadata": {},
   "outputs": [],
   "source": [
    "\n"
   ]
  },
  {
   "cell_type": "code",
   "execution_count": 50,
   "metadata": {},
   "outputs": [
    {
     "ename": "SyntaxError",
     "evalue": "invalid syntax (515222074.py, line 5)",
     "output_type": "error",
     "traceback": [
      "\u001b[1;36m  Cell \u001b[1;32mIn [50], line 5\u001b[1;36m\u001b[0m\n\u001b[1;33m    acc.a Accuracy(top_k=1)(p,targets)\u001b[0m\n\u001b[1;37m          ^\u001b[0m\n\u001b[1;31mSyntaxError\u001b[0m\u001b[1;31m:\u001b[0m invalid syntax\n"
     ]
    }
   ],
   "source": [
    "acc = th.Tensor([0.])\n",
    "for p in (probs):\n",
    "    print(p)\n",
    "    print(targets)\n",
    "    acc += Accuracy(top_k=1)(p,targets)"
   ]
  },
  {
   "cell_type": "code",
   "execution_count": 48,
   "metadata": {},
   "outputs": [
    {
     "data": {
      "text/plain": [
       "tensor([0.3333])"
      ]
     },
     "execution_count": 48,
     "metadata": {},
     "output_type": "execute_result"
    }
   ],
   "source": [
    "acc/3 "
   ]
  },
  {
   "cell_type": "code",
   "execution_count": null,
   "metadata": {},
   "outputs": [],
   "source": []
  }
 ],
 "metadata": {
  "kernelspec": {
   "display_name": "Python 3.8.6 64-bit",
   "language": "python",
   "name": "python3"
  },
  "language_info": {
   "codemirror_mode": {
    "name": "ipython",
    "version": 3
   },
   "file_extension": ".py",
   "mimetype": "text/x-python",
   "name": "python",
   "nbconvert_exporter": "python",
   "pygments_lexer": "ipython3",
   "version": "3.8.6"
  },
  "orig_nbformat": 4,
  "vscode": {
   "interpreter": {
    "hash": "3a4fd3c0dcbc658b189fbf5814096262f6268a6dc22fca0ed725de03044a0d6b"
   }
  }
 },
 "nbformat": 4,
 "nbformat_minor": 2
}
